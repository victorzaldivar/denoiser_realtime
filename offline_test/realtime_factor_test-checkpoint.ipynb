{
 "cells": [
  {
   "cell_type": "code",
   "execution_count": 1,
   "id": "df319871",
   "metadata": {},
   "outputs": [],
   "source": [
    "import torch\n",
    "import causal_improved_sudormrf_v3 \n",
    "import soundfile as sf\n",
    "from os.path import join as pjoin\n",
    "import time as t\n",
    "import numpy as np\n",
    "import tqdm\n",
    "import matplotlib.pyplot as plt\n"
   ]
  },
  {
   "cell_type": "code",
   "execution_count": 2,
   "id": "a969f063",
   "metadata": {},
   "outputs": [],
   "source": [
    "torch.set_num_threads(1)"
   ]
  },
  {
   "cell_type": "code",
   "execution_count": 3,
   "id": "1d495498",
   "metadata": {},
   "outputs": [],
   "source": [
    "mps_device = torch.device('cpu')"
   ]
  },
  {
   "cell_type": "code",
   "execution_count": 4,
   "id": "d46f11c5",
   "metadata": {},
   "outputs": [],
   "source": [
    "def load_sudormrf_causal_cpu(model_path, device):\n",
    "    # 1: declarem el model (instanciem la classe)\n",
    "    model = causal_improved_sudormrf_v3.CausalSuDORMRF(\n",
    "        in_audio_channels=1,\n",
    "        out_channels=512,\n",
    "        in_channels=256,\n",
    "        num_blocks=16,\n",
    "        upsampling_depth=5,\n",
    "        enc_kernel_size=21,\n",
    "        enc_num_basis=512,\n",
    "        num_sources=1,\n",
    "        )\n",
    "    model = torch.nn.DataParallel(model)\n",
    "    model.load_state_dict(torch.load(model_path, map_location=device))\n",
    "    model = model.module.to(device)\n",
    "    model.eval()\n",
    "    return model"
   ]
  },
  {
   "cell_type": "code",
   "execution_count": 5,
   "id": "1911b8c7",
   "metadata": {},
   "outputs": [],
   "source": [
    "fs = 16000"
   ]
  },
  {
   "cell_type": "code",
   "execution_count": 6,
   "id": "2c374728",
   "metadata": {},
   "outputs": [],
   "source": [
    "model = load_sudormrf_causal_cpu('e39_sudo_whamr_16k_enhnoisy_augment.pt', mps_device)"
   ]
  },
  {
   "cell_type": "code",
   "execution_count": 7,
   "id": "0694d1bd",
   "metadata": {},
   "outputs": [],
   "source": [
    "#now load 5s mixture"
   ]
  },
  {
   "cell_type": "code",
   "execution_count": 8,
   "id": "27f5f5db",
   "metadata": {},
   "outputs": [],
   "source": [
    "mixture, fs = sf.read('speech.wav')"
   ]
  },
  {
   "cell_type": "code",
   "execution_count": 9,
   "id": "90c91822",
   "metadata": {},
   "outputs": [],
   "source": [
    "mixture = torch.tensor(mixture, dtype=torch.float32)"
   ]
  },
  {
   "cell_type": "code",
   "execution_count": 10,
   "id": "9a229c0e",
   "metadata": {},
   "outputs": [],
   "source": [
    "mixture = mixture[:16000*5]"
   ]
  },
  {
   "cell_type": "code",
   "execution_count": 11,
   "id": "1f3fa883",
   "metadata": {},
   "outputs": [],
   "source": [
    "audio_length = len(mixture) / fs"
   ]
  },
  {
   "cell_type": "code",
   "execution_count": 12,
   "id": "ece532a2",
   "metadata": {},
   "outputs": [
    {
     "data": {
      "text/plain": [
       "5.0"
      ]
     },
     "execution_count": 12,
     "metadata": {},
     "output_type": "execute_result"
    }
   ],
   "source": [
    "audio_length"
   ]
  },
  {
   "cell_type": "code",
   "execution_count": 13,
   "id": "01bc620c",
   "metadata": {},
   "outputs": [
    {
     "data": {
      "text/plain": [
       "80000"
      ]
     },
     "execution_count": 13,
     "metadata": {},
     "output_type": "execute_result"
    }
   ],
   "source": [
    "len(mixture)"
   ]
  },
  {
   "cell_type": "code",
   "execution_count": 14,
   "id": "78589a93",
   "metadata": {},
   "outputs": [],
   "source": [
    "# test how performance degrades when using short chunks"
   ]
  },
  {
   "cell_type": "code",
   "execution_count": 15,
   "id": "a8024aa0",
   "metadata": {},
   "outputs": [
    {
     "name": "stdout",
     "output_type": "stream",
     "text": [
      "[1, 8, 16, 24, 32, 40, 48, 55, 63, 71, 79, 87, 95, 102, 110, 118, 126, 134, 142, 150]\n"
     ]
    }
   ],
   "source": [
    "num_chunks = (np.linspace(1, 150, num=20)).astype('int').tolist()\n",
    "print(num_chunks)"
   ]
  },
  {
   "cell_type": "code",
   "execution_count": 16,
   "id": "d38e0199",
   "metadata": {
    "scrolled": true
   },
   "outputs": [
    {
     "name": "stderr",
     "output_type": "stream",
     "text": [
      "100%|███████████████████████████████████████████| 20/20 [02:00<00:00,  6.05s/it]\n"
     ]
    }
   ],
   "source": [
    "times = []\n",
    "sisdrs = []\n",
    "chunk_sizes = []\n",
    "minitimes = []\n",
    "for chunks in tqdm.tqdm(num_chunks):\n",
    "    #try:\n",
    "    if chunks == 1:\n",
    "        mix_list = [mixture]\n",
    "    else:\n",
    "        # split into simple chunks (rectangular window and no overlap), dropping the last one\n",
    "        mix_list = torch.split(mixture, len(mixture) // chunks)\n",
    "\n",
    "        \n",
    "    chunk_sizes.append(len(mix_list[0]))\n",
    "    \n",
    "    # compute the audio\n",
    "    rec_sources = []\n",
    "    tic = t.time()\n",
    "    for m in mix_list:\n",
    "        tic2 = t.time()\n",
    "        rec_sources.append(model(m.unsqueeze(0).unsqueeze(1)).squeeze())\n",
    "        tac2 = t.time()\n",
    "        minitimes.append(tac2 - tic2)\n",
    "\n",
    "    tac = t.time()\n",
    "    times.append(tac - tic)\n",
    "\n",
    "    '''\n",
    "    except:\n",
    "        times.append('nan')\n",
    "        chunk_sizes.append('nan')\n",
    "    ''';"
   ]
  },
  {
   "cell_type": "code",
   "execution_count": 17,
   "id": "c8359b82",
   "metadata": {
    "scrolled": true
   },
   "outputs": [
    {
     "data": {
      "text/plain": [
       "[1.6524848937988281,\n",
       " 1.6651208400726318,\n",
       " 2.160907030105591,\n",
       " 2.6144943237304688,\n",
       " 3.084439992904663,\n",
       " 3.656135082244873,\n",
       " 4.172260999679565,\n",
       " 4.640412092208862,\n",
       " 4.984847068786621,\n",
       " 5.709341049194336,\n",
       " 6.06423282623291,\n",
       " 6.694018840789795,\n",
       " 7.19451117515564,\n",
       " 7.433467864990234,\n",
       " 8.031982898712158,\n",
       " 8.627962112426758,\n",
       " 8.766419887542725,\n",
       " 9.238517999649048,\n",
       " 9.978971004486084,\n",
       " 10.32592511177063]"
      ]
     },
     "execution_count": 17,
     "metadata": {},
     "output_type": "execute_result"
    }
   ],
   "source": [
    "# necessitem 2.4 segons per processar 5s\n",
    "times"
   ]
  },
  {
   "cell_type": "code",
   "execution_count": 18,
   "id": "878a1c1e",
   "metadata": {},
   "outputs": [],
   "source": [
    "ms_sizes = [x*1000 / fs for x in chunk_sizes]"
   ]
  },
  {
   "cell_type": "code",
   "execution_count": 19,
   "id": "ef100e07",
   "metadata": {},
   "outputs": [],
   "source": [
    "results = {'times' : times, 'ms_sizes' : ms_sizes}"
   ]
  },
  {
   "cell_type": "code",
   "execution_count": 20,
   "id": "7660cc27",
   "metadata": {},
   "outputs": [],
   "source": [
    "realtime_factor = [x/(len(mixture)/fs) for x in times]"
   ]
  },
  {
   "cell_type": "code",
   "execution_count": 21,
   "id": "4f51e7d4",
   "metadata": {},
   "outputs": [
    {
     "data": {
      "image/png": "[encoded data removed]",
      "text/plain": [
       "<Figure size 640x480 with 2 Axes>"
      ]
     },
     "metadata": {},
     "output_type": "display_data"
    }
   ],
   "source": [
    "plt.subplot(2,1,1)\n",
    "plt.plot(ms_sizes, times)\n",
    "plt.xlim(0,800)\n",
    "plt.ylabel(' Tiempo de computación [s]')\n",
    "plt.xlabel('Tamaño de la ventana [ms]')\n",
    "plt.tight_layout()\n",
    "plt.grid(True)\n",
    "\n",
    "plt.subplot(2,1,2)\n",
    "plt.plot(ms_sizes, realtime_factor)\n",
    "plt.xlim(0,800)\n",
    "plt.ylabel('\"Realtime factor\"')\n",
    "plt.xlabel(' Tamaño de la ventana [ms]')\n",
    "plt.tight_layout()\n",
    "plt.grid(True)"
   ]
  }
 ],
 "metadata": {
  "kernelspec": {
   "display_name": "Python 3 (ipykernel)",
   "language": "python",
   "name": "python3"
  },
  "language_info": {
   "codemirror_mode": {
    "name": "ipython",
    "version": 3
   },
   "file_extension": ".py",
   "mimetype": "text/x-python",
   "name": "python",
   "nbconvert_exporter": "python",
   "pygments_lexer": "ipython3",
   "version": "3.10.8"
  }
 },
 "nbformat": 4,
 "nbformat_minor": 5
}
